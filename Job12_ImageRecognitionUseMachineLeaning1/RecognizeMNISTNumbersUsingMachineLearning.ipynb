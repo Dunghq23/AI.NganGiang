{
 "cells": [
  {
   "cell_type": "code",
   "execution_count": 11,
   "id": "7cabbd1b-54e0-46e4-9782-e3d98343be1c",
   "metadata": {},
   "outputs": [],
   "source": [
    "import tensorflow.compat.v1 as tf\n",
    "import matplotlib.pyplot as plt\n",
    "import random"
   ]
  },
  {
   "cell_type": "code",
   "execution_count": 12,
   "id": "22655e88-fa59-4575-a547-7e5cb742d7e8",
   "metadata": {},
   "outputs": [],
   "source": [
    "# Tắt chế độ Tensor Flow 2.x\n",
    "tf.disable_v2_behavior()"
   ]
  },
  {
   "cell_type": "code",
   "execution_count": 13,
   "metadata": {},
   "outputs": [],
   "source": [
    "tf.set_random_seed(777)"
   ]
  },
  {
   "cell_type": "code",
   "execution_count": 14,
   "id": "c2b519b1-4dbd-449e-ad37-f6c4d626ad04",
   "metadata": {},
   "outputs": [],
   "source": [
    "from tensorflow.keras.datasets import mnist\n",
    "# Tải dữ liệu MNIST\n",
    "(x_train, y_train), (x_test, y_test) = mnist.load_data()\n",
    "# Bây giờ, x_train và x_test chứa các hình ảnh, còn y_train và y_test chứa nhãn."
   ]
  },
  {
   "cell_type": "code",
   "execution_count": 15,
   "id": "80b04673-a818-45aa-a74f-8d02eb1edf82",
   "metadata": {},
   "outputs": [],
   "source": [
    "nb_classes = 10"
   ]
  },
  {
   "cell_type": "code",
   "execution_count": 16,
   "metadata": {},
   "outputs": [],
   "source": [
    "# MNIST data image of shape = 28 * 28 = 784\n",
    "X = tf.placeholder(tf.float32, [None, 784])"
   ]
  }
 ],
 "metadata": {
  "kernelspec": {
   "display_name": "Python 3",
   "language": "python",
   "name": "python3"
  },
  "language_info": {
   "codemirror_mode": {
    "name": "ipython",
    "version": 3
   },
   "file_extension": ".py",
   "mimetype": "text/x-python",
   "name": "python",
   "nbconvert_exporter": "python",
   "pygments_lexer": "ipython3",
   "version": "3.6.2"
  }
 },
 "nbformat": 4,
 "nbformat_minor": 5
}
