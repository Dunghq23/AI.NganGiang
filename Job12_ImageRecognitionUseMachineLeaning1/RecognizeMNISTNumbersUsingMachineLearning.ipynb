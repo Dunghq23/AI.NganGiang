{
 "cells": [
  {
   "cell_type": "code",
<<<<<<< HEAD
   "execution_count": 7,
=======
   "execution_count": 1,
>>>>>>> f8a1d4c937b574329e8d3b93ad0f22d3a0450c9f
   "id": "7cabbd1b-54e0-46e4-9782-e3d98343be1c",
   "metadata": {},
   "outputs": [
    {
     "ename": "ModuleNotFoundError",
     "evalue": "No module named 'tensorflow'",
     "output_type": "error",
     "traceback": [
      "\u001b[1;31m---------------------------------------------------------------------------\u001b[0m",
      "\u001b[1;31mModuleNotFoundError\u001b[0m                       Traceback (most recent call last)",
      "\u001b[1;32mg:\\HAQUANGDUNG\\Job12_ImageRecognitionUseMachineLeaning1\\RecognizeMNISTNumbersUsingMachineLearning.ipynb Cell 1\u001b[0m line \u001b[0;36m1\n\u001b[1;32m----> <a href='vscode-notebook-cell:/g%3A/HAQUANGDUNG/Job12_ImageRecognitionUseMachineLeaning1/RecognizeMNISTNumbersUsingMachineLearning.ipynb#W0sZmlsZQ%3D%3D?line=0'>1</a>\u001b[0m \u001b[39mimport\u001b[39;00m \u001b[39mtensorflow\u001b[39;00m\u001b[39m.\u001b[39;00m\u001b[39mcompat\u001b[39;00m\u001b[39m.\u001b[39;00m\u001b[39mv1\u001b[39;00m \u001b[39mas\u001b[39;00m \u001b[39mtf\u001b[39;00m\n\u001b[0;32m      <a href='vscode-notebook-cell:/g%3A/HAQUANGDUNG/Job12_ImageRecognitionUseMachineLeaning1/RecognizeMNISTNumbersUsingMachineLearning.ipynb#W0sZmlsZQ%3D%3D?line=1'>2</a>\u001b[0m \u001b[39mimport\u001b[39;00m \u001b[39mmatplotlib\u001b[39;00m\u001b[39m.\u001b[39;00m\u001b[39mpyplot\u001b[39;00m \u001b[39mas\u001b[39;00m \u001b[39mplt\u001b[39;00m\n\u001b[0;32m      <a href='vscode-notebook-cell:/g%3A/HAQUANGDUNG/Job12_ImageRecognitionUseMachineLeaning1/RecognizeMNISTNumbersUsingMachineLearning.ipynb#W0sZmlsZQ%3D%3D?line=2'>3</a>\u001b[0m \u001b[39mimport\u001b[39;00m \u001b[39mrandom\u001b[39;00m\n",
      "\u001b[1;31mModuleNotFoundError\u001b[0m: No module named 'tensorflow'"
     ]
    }
   ],
   "source": [
    "import tensorflow.compat.v1 as tf\n",
    "import matplotlib.pyplot as plt\n",
    "import random"
   ]
  },
  {
   "cell_type": "code",
<<<<<<< HEAD
   "execution_count": null,
=======
   "execution_count": 2,
>>>>>>> f8a1d4c937b574329e8d3b93ad0f22d3a0450c9f
   "id": "22655e88-fa59-4575-a547-7e5cb742d7e8",
   "metadata": {},
   "outputs": [],
   "source": [
    "# Tắt chế độ Eager Execution trong TensorFlow 2.x\n",
    "tf.disable_eager_execution()"
   ]
  },
  {
   "cell_type": "code",
<<<<<<< HEAD
   "execution_count": null,
=======
   "execution_count": 3,
   "id": "fb7d4197",
>>>>>>> f8a1d4c937b574329e8d3b93ad0f22d3a0450c9f
   "metadata": {},
   "outputs": [],
   "source": [
    "# Đặt giống ngẫu nhiên\n",
    "tf.set_random_seed(777)"
   ]
  },
  {
   "cell_type": "code",
<<<<<<< HEAD
   "execution_count": null,
=======
   "execution_count": 4,
>>>>>>> f8a1d4c937b574329e8d3b93ad0f22d3a0450c9f
   "id": "c2b519b1-4dbd-449e-ad37-f6c4d626ad04",
   "metadata": {},
   "outputs": [],
   "source": [
    "from tensorflow.keras.datasets import mnist"
   ]
  },
  {
   "cell_type": "code",
<<<<<<< HEAD
   "execution_count": null,
=======
   "execution_count": 5,
   "id": "588e537e",
   "metadata": {},
   "outputs": [],
   "source": [
    "# Tải dữ liệu MNIST\n",
    "(x_train, y_train), (x_test, y_test) = mnist.load_data()"
   ]
  },
  {
   "cell_type": "code",
   "execution_count": 6,
>>>>>>> f8a1d4c937b574329e8d3b93ad0f22d3a0450c9f
   "id": "80b04673-a818-45aa-a74f-8d02eb1edf82",
   "metadata": {},
   "outputs": [],
   "source": [
    "nb_classes = 10"
   ]
  },
  {
   "cell_type": "code",
<<<<<<< HEAD
   "execution_count": null,
=======
   "execution_count": 7,
   "id": "11dfdf67",
>>>>>>> f8a1d4c937b574329e8d3b93ad0f22d3a0450c9f
   "metadata": {},
   "outputs": [],
   "source": [
    "# MNIST data image of shape 28 * 28 = 784\n",
    "X = tf.placeholder(tf.float32, [None, 784])\n",
    "# 0-9 digits recognition = 10 classes\n",
    "Y = tf.placeholder(tf.float32, [None, nb_classes])"
   ]
  },
  {
   "cell_type": "code",
   "execution_count": 8,
   "id": "414194ea",
   "metadata": {},
   "outputs": [],
   "source": [
    "W = tf.Variable(tf.random_normal([784, nb_classes]))\n",
    "b = tf.Variable(tf.random_normal([nb_classes]))"
   ]
  },
  {
   "cell_type": "code",
   "execution_count": 9,
   "id": "1cbe0fa9",
   "metadata": {},
   "outputs": [],
   "source": [
    "# Reshape dữ liệu\n",
    "x_train = x_train.reshape(-1, 784)\n",
    "x_test = x_test.reshape(-1, 784)"
   ]
  },
  {
   "cell_type": "code",
   "execution_count": 10,
   "id": "ebfe6c4d",
   "metadata": {},
   "outputs": [],
   "source": [
    "# Hypothesis (using softmax)\n",
    "hypothesis = tf.nn.softmax(tf.matmul(X, W) + b)\n",
    "cost = tf.reduce_mean(-tf.reduce_sum(Y * tf.log(hypothesis + 1e-10), axis=1))\n",
    "train = tf.train.GradientDescentOptimizer(learning_rate=0.1).minimize(cost)"
   ]
  },
  {
   "cell_type": "code",
   "execution_count": 11,
   "id": "c3e64ba7",
   "metadata": {},
   "outputs": [],
   "source": [
    "# Test model\n",
    "is_correct = tf.equal(tf.argmax(hypothesis, 1), tf.argmax(Y, 1))"
   ]
  },
  {
   "cell_type": "code",
   "execution_count": 12,
   "id": "dde66bd4",
   "metadata": {},
   "outputs": [],
   "source": [
    "# Calculate accuracy\n",
    "accuracy = tf.reduce_mean(tf.cast(is_correct, tf.float32))"
   ]
  },
  {
   "cell_type": "code",
   "execution_count": 13,
   "id": "83f7e0bc",
   "metadata": {},
   "outputs": [],
   "source": [
    "# Parameters\n",
    "num_epochs = 15\n",
    "batch_size = 100\n",
    "num_iterations = len(x_train) // batch_size"
   ]
  },
  {
   "cell_type": "code",
   "execution_count": 14,
   "id": "600062a3",
   "metadata": {},
   "outputs": [
    {
     "name": "stdout",
     "output_type": "stream",
     "text": [
      "Epoch: 0001, Cost: 20.024345571\n",
      "Epoch: 0002, Cost: 18.536557279\n",
      "Epoch: 0003, Cost: 17.691086094\n",
      "Epoch: 0004, Cost: 17.758685083\n",
      "Epoch: 0005, Cost: 17.285980129\n",
      "Epoch: 0006, Cost: 17.011673471\n",
      "Epoch: 0007, Cost: 17.260217409\n",
      "Epoch: 0008, Cost: 16.801906651\n",
      "Epoch: 0009, Cost: 16.774938820\n",
      "Epoch: 0010, Cost: 16.911638114\n",
      "Epoch: 0011, Cost: 16.913893941\n",
      "Epoch: 0012, Cost: 16.763367956\n",
      "Epoch: 0013, Cost: 16.696490134\n",
      "Epoch: 0014, Cost: 16.699779558\n",
      "Epoch: 0015, Cost: 16.713295393\n",
      "Learning finished\n",
      "Accuracy:  0.2693\n",
      "Label:  1\n",
      "Prediction:  [4]\n"
     ]
    },
    {
     "data": {
      "image/png": "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",
      "text/plain": [
       "<Figure size 432x288 with 1 Axes>"
      ]
     },
     "metadata": {
      "needs_background": "light"
     },
     "output_type": "display_data"
    }
   ],
   "source": [
    "with tf.Session() as sess:\n",
    "    # Initialize TensorFlow variables\n",
    "    sess.run(tf.global_variables_initializer())\n",
    "\n",
    "    # Training cycle\n",
    "    for epoch in range(num_epochs):\n",
    "        avg_cost = 0\n",
    "        for i in range(num_iterations):\n",
    "            start = i * batch_size\n",
    "            end = start + batch_size\n",
    "            batch_xs = x_train[start:end]\n",
    "            batch_ys = tf.one_hot(y_train[start:end], nb_classes).eval() # Chuyển thành one-hot encoding\n",
    "            _, _cost_val = sess.run([train, cost], feed_dict={X: batch_xs, Y: batch_ys})\n",
    "            avg_cost += _cost_val / num_iterations\n",
    "        print(\"Epoch: {:04d}, Cost: {:.9f}\".format(epoch + 1, avg_cost))\n",
    "    print(\"Learning finished\")\n",
    "\n",
    "    # Test the model using test sets\n",
    "    test_x = x_test\n",
    "    test_y = tf.one_hot(y_test, nb_classes).eval()  # Chuyển thành one-hot encoding\n",
    "    print(\"Accuracy: \", accuracy.eval(session=sess, feed_dict={X: test_x, Y: test_y}))\n",
    "\n",
    "    # Get one and predict\n",
    "    r = random.randint(0, len(x_test) - 1)\n",
    "\n",
    "    print(\"Label: \", y_test[r])\n",
    "    print(\"Prediction: \", sess.run(tf.argmax(hypothesis, 1), feed_dict={X: test_x[r : r + 1]}))\n",
    "\n",
    "    plt.imshow(x_test[r].reshape(28, 28), cmap=\"Greys\", interpolation=\"nearest\")\n",
    "    plt.show()"
   ]
  }
 ],
 "metadata": {
  "kernelspec": {
   "display_name": "Python 3",
   "language": "python",
   "name": "python3"
  },
  "language_info": {
   "codemirror_mode": {
    "name": "ipython",
    "version": 3
   },
   "file_extension": ".py",
   "mimetype": "text/x-python",
   "name": "python",
   "nbconvert_exporter": "python",
   "pygments_lexer": "ipython3",
   "version": "3.9.18"
  }
 },
 "nbformat": 4,
 "nbformat_minor": 5
}
